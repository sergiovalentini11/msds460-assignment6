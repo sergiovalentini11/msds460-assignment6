{
 "cells": [
  {
   "cell_type": "code",
   "execution_count": 6,
   "metadata": {},
   "outputs": [
    {
     "name": "stdout",
     "output_type": "stream",
     "text": [
      "    Total_Population  Total_Population_White_Alone  state_county\n",
      "15           1813470                       1070548         53033\n",
      "22            709366                        481554         53053\n",
      "25            639797                        441622         53061\n",
      "36            421551                        354720         53063\n",
      "5             385835                        300790         53011\n"
     ]
    }
   ],
   "source": [
    "\n",
    "import pandas as pd\n",
    "\n",
    "# Read in the census data\n",
    "df = pd.read_csv(\"001. Data Bases/washington_census_data.csv\")\n",
    "\n",
    "# Sorting df in order of population\n",
    "df = df.sort_values(by='Total_Population', ascending=False)\n",
    "print(df.head())"
   ]
  },
  {
   "cell_type": "code",
   "execution_count": 5,
   "metadata": {},
   "outputs": [
    {
     "data": {
      "text/plain": [
       "[53033,\n",
       " 53053,\n",
       " 53061,\n",
       " 53063,\n",
       " 53011,\n",
       " 53067,\n",
       " 53035,\n",
       " 53077,\n",
       " 53073,\n",
       " 53005,\n",
       " 53057,\n",
       " 53015,\n",
       " 53029,\n",
       " 53025,\n",
       " 53021,\n",
       " 53009,\n",
       " 53041,\n",
       " 53007,\n",
       " 53027,\n",
       " 53045,\n",
       " 53071,\n",
       " 53075,\n",
       " 53065,\n",
       " 53037,\n",
       " 53047,\n",
       " 53017,\n",
       " 53031,\n",
       " 53049,\n",
       " 53039,\n",
       " 53003,\n",
       " 53055,\n",
       " 53001,\n",
       " 53051,\n",
       " 53059,\n",
       " 53043,\n",
       " 53019,\n",
       " 53069,\n",
       " 53013,\n",
       " 53023]"
      ]
     },
     "execution_count": 5,
     "metadata": {},
     "output_type": "execute_result"
    }
   ],
   "source": [
    "# store a list with the unique state_county\n",
    "\n",
    "state_county = df.state_county.unique()\n",
    "\n",
    "state_county = list(state_county)\n",
    "\n",
    "state_county"
   ]
  },
  {
   "cell_type": "code",
   "execution_count": 6,
   "metadata": {},
   "outputs": [],
   "source": [
    "import pulp"
   ]
  },
  {
   "cell_type": "code",
   "execution_count": 7,
   "metadata": {},
   "outputs": [
    {
     "data": {
      "text/plain": [
       "39"
      ]
     },
     "execution_count": 7,
     "metadata": {},
     "output_type": "execute_result"
    }
   ],
   "source": [
    "len(state_county)"
   ]
  },
  {
   "cell_type": "code",
   "execution_count": 13,
   "metadata": {},
   "outputs": [
    {
     "data": {
      "text/plain": [
       "549755813888"
      ]
     },
     "execution_count": 13,
     "metadata": {},
     "output_type": "execute_result"
    }
   ],
   "source": [
    "2**39"
   ]
  },
  {
   "cell_type": "code",
   "execution_count": 14,
   "metadata": {},
   "outputs": [
    {
     "data": {
      "text/plain": [
       "68719476736"
      ]
     },
     "execution_count": 14,
     "metadata": {},
     "output_type": "execute_result"
    }
   ],
   "source": [
    "2**36"
   ]
  },
  {
   "cell_type": "code",
   "execution_count": 2,
   "metadata": {},
   "outputs": [
    {
     "ename": "NameError",
     "evalue": "name 'df' is not defined",
     "output_type": "error",
     "traceback": [
      "\u001b[1;31m---------------------------------------------------------------------------\u001b[0m",
      "\u001b[1;31mNameError\u001b[0m                                 Traceback (most recent call last)",
      "Cell \u001b[1;32mIn[2], line 2\u001b[0m\n\u001b[0;32m      1\u001b[0m \u001b[38;5;66;03m# Sorting df in order of population\u001b[39;00m\n\u001b[1;32m----> 2\u001b[0m df \u001b[38;5;241m=\u001b[39m \u001b[43mdf\u001b[49m\u001b[38;5;241m.\u001b[39msort_values(by\u001b[38;5;241m=\u001b[39m\u001b[38;5;124m'\u001b[39m\u001b[38;5;124mTotal_Population\u001b[39m\u001b[38;5;124m'\u001b[39m, ascending\u001b[38;5;241m=\u001b[39m\u001b[38;5;28;01mFalse\u001b[39;00m)\n\u001b[0;32m      3\u001b[0m \u001b[38;5;28mprint\u001b[39m(df\u001b[38;5;241m.\u001b[39mhead())\n",
      "\u001b[1;31mNameError\u001b[0m: name 'df' is not defined"
     ]
    }
   ],
   "source": [
    "# Sorting df in order of population\n",
    "df = df.sort_values(by='Total_Population', ascending=False)\n",
    "print(df.head())"
   ]
  },
  {
   "cell_type": "code",
   "execution_count": 9,
   "metadata": {},
   "outputs": [
    {
     "name": "stdout",
     "output_type": "stream",
     "text": [
      "6024689\n",
      "602468.9\n"
     ]
    }
   ],
   "source": [
    "# We need to determine the target population that our 10 districts need to aim for. \n",
    "# We can determine this by taking the total population of Washington and dividing by 10.\n",
    "total_pop = df['Total_Population'].sum()\n",
    "print(total_pop)\n",
    "\n",
    "target_pop = total_pop / 10\n",
    "print(target_pop)"
   ]
  },
  {
   "cell_type": "code",
   "execution_count": 9,
   "metadata": {},
   "outputs": [],
   "source": [
    "state_county = df.state_county[3:].to_list()\n",
    "\n",
    "# Read in the census data\n",
    "df = pd.read_csv(\"001. Data Bases/washington_census_data.csv\")\n",
    "\n",
    "# Sorting df in order of population\n",
    "df = df.sort_values(by='Total_Population', ascending=False)"
   ]
  },
  {
   "cell_type": "code",
   "execution_count": 14,
   "metadata": {},
   "outputs": [],
   "source": [
    "# export to csv the list 'combinations'\n",
    "# first create a pandas series using 'combinations'\n",
    "# then export it to csv\n",
    "df_comb = pd.Series(combinations)\n",
    "df_comb.to_csv('001. Data Bases/combinations.csv')\n"
   ]
  },
  {
   "cell_type": "code",
   "execution_count": 12,
   "metadata": {},
   "outputs": [
    {
     "ename": "KeyboardInterrupt",
     "evalue": "",
     "output_type": "error",
     "traceback": [
      "\u001b[1;31m---------------------------------------------------------------------------\u001b[0m",
      "\u001b[1;31mKeyboardInterrupt\u001b[0m                         Traceback (most recent call last)",
      "Cell \u001b[1;32mIn[12], line 10\u001b[0m\n\u001b[0;32m      8\u001b[0m \u001b[38;5;28;01mfor\u001b[39;00m i \u001b[38;5;129;01min\u001b[39;00m \u001b[38;5;28mrange\u001b[39m(\u001b[38;5;241m1\u001b[39m, \u001b[38;5;28mlen\u001b[39m(state_county)):\n\u001b[0;32m      9\u001b[0m     \u001b[38;5;28;01mfor\u001b[39;00m subset \u001b[38;5;129;01min\u001b[39;00m itertools\u001b[38;5;241m.\u001b[39mcombinations(state_county, i):\n\u001b[1;32m---> 10\u001b[0m         pop \u001b[38;5;241m=\u001b[39m \u001b[38;5;28msum\u001b[39m(df[\u001b[43mdf\u001b[49m\u001b[38;5;241;43m.\u001b[39;49m\u001b[43mstate_county\u001b[49m\u001b[38;5;241;43m.\u001b[39;49m\u001b[43misin\u001b[49m\u001b[43m(\u001b[49m\u001b[43msubset\u001b[49m\u001b[43m)\u001b[49m]\u001b[38;5;241m.\u001b[39mTotal_Population)\n\u001b[0;32m     11\u001b[0m         \u001b[38;5;28;01mif\u001b[39;00m pop \u001b[38;5;241m<\u001b[39m\u001b[38;5;241m=\u001b[39m target_pop\u001b[38;5;241m*\u001b[39m\u001b[38;5;241m1.1\u001b[39m \u001b[38;5;129;01mand\u001b[39;00m pop \u001b[38;5;241m>\u001b[39m\u001b[38;5;241m=\u001b[39m target_pop\u001b[38;5;241m*\u001b[39m\u001b[38;5;241m0.9\u001b[39m:\n\u001b[0;32m     12\u001b[0m             combinations\u001b[38;5;241m.\u001b[39mappend(subset)\n",
      "File \u001b[1;32m~\\AppData\\Roaming\\Python\\Python39\\site-packages\\pandas\\core\\series.py:5550\u001b[0m, in \u001b[0;36mSeries.isin\u001b[1;34m(self, values)\u001b[0m\n\u001b[0;32m   5477\u001b[0m \u001b[38;5;28;01mdef\u001b[39;00m \u001b[38;5;21misin\u001b[39m(\u001b[38;5;28mself\u001b[39m, values) \u001b[38;5;241m-\u001b[39m\u001b[38;5;241m>\u001b[39m Series:\n\u001b[0;32m   5478\u001b[0m \u001b[38;5;250m    \u001b[39m\u001b[38;5;124;03m\"\"\"\u001b[39;00m\n\u001b[0;32m   5479\u001b[0m \u001b[38;5;124;03m    Whether elements in Series are contained in `values`.\u001b[39;00m\n\u001b[0;32m   5480\u001b[0m \n\u001b[1;32m   (...)\u001b[0m\n\u001b[0;32m   5548\u001b[0m \u001b[38;5;124;03m    dtype: bool\u001b[39;00m\n\u001b[0;32m   5549\u001b[0m \u001b[38;5;124;03m    \"\"\"\u001b[39;00m\n\u001b[1;32m-> 5550\u001b[0m     result \u001b[38;5;241m=\u001b[39m \u001b[43malgorithms\u001b[49m\u001b[38;5;241;43m.\u001b[39;49m\u001b[43misin\u001b[49m\u001b[43m(\u001b[49m\u001b[38;5;28;43mself\u001b[39;49m\u001b[38;5;241;43m.\u001b[39;49m\u001b[43m_values\u001b[49m\u001b[43m,\u001b[49m\u001b[43m \u001b[49m\u001b[43mvalues\u001b[49m\u001b[43m)\u001b[49m\n\u001b[0;32m   5551\u001b[0m     \u001b[38;5;28;01mreturn\u001b[39;00m \u001b[38;5;28mself\u001b[39m\u001b[38;5;241m.\u001b[39m_constructor(result, index\u001b[38;5;241m=\u001b[39m\u001b[38;5;28mself\u001b[39m\u001b[38;5;241m.\u001b[39mindex, copy\u001b[38;5;241m=\u001b[39m\u001b[38;5;28;01mFalse\u001b[39;00m)\u001b[38;5;241m.\u001b[39m__finalize__(\n\u001b[0;32m   5552\u001b[0m         \u001b[38;5;28mself\u001b[39m, method\u001b[38;5;241m=\u001b[39m\u001b[38;5;124m\"\u001b[39m\u001b[38;5;124misin\u001b[39m\u001b[38;5;124m\"\u001b[39m\n\u001b[0;32m   5553\u001b[0m     )\n",
      "File \u001b[1;32m~\\AppData\\Roaming\\Python\\Python39\\site-packages\\pandas\\core\\algorithms.py:545\u001b[0m, in \u001b[0;36misin\u001b[1;34m(comps, values)\u001b[0m\n\u001b[0;32m    542\u001b[0m     comps_array \u001b[38;5;241m=\u001b[39m comps_array\u001b[38;5;241m.\u001b[39mastype(common, copy\u001b[38;5;241m=\u001b[39m\u001b[38;5;28;01mFalse\u001b[39;00m)\n\u001b[0;32m    543\u001b[0m     f \u001b[38;5;241m=\u001b[39m htable\u001b[38;5;241m.\u001b[39mismember\n\u001b[1;32m--> 545\u001b[0m \u001b[38;5;28;01mreturn\u001b[39;00m \u001b[43mf\u001b[49m\u001b[43m(\u001b[49m\u001b[43mcomps_array\u001b[49m\u001b[43m,\u001b[49m\u001b[43m \u001b[49m\u001b[43mvalues\u001b[49m\u001b[43m)\u001b[49m\n",
      "\u001b[1;31mKeyboardInterrupt\u001b[0m: "
     ]
    }
   ],
   "source": [
    "# create all combinations of the elements in df.state_county\n",
    "# with the constraint that the sum of total state_county_pop cannot be higher than 572411\n",
    "import itertools\n",
    "\n",
    "combinations = []\n",
    "target_pop = 572411\n",
    "\n",
    "for i in range(1, len(state_county)):\n",
    "    for subset in itertools.combinations(state_county, i):\n",
    "        pop = sum(df[df.state_county.isin(subset)].Total_Population)\n",
    "        if pop <= target_pop*1.1 and pop >= target_pop*0.9:\n",
    "            combinations.append(subset)\n",
    "\n",
    "    "
   ]
  },
  {
   "cell_type": "code",
   "execution_count": 28,
   "metadata": {},
   "outputs": [],
   "source": [
    "# create list of all possible connections between 2 cities\n",
    "possible_connections = [tuple(c) for c in pulp.allcombinations(state_county, len(state_county))]\n",
    "\n",
    "possible_connections"
   ]
  }
 ],
 "metadata": {
  "kernelspec": {
   "display_name": "Python 3",
   "language": "python",
   "name": "python3"
  },
  "language_info": {
   "codemirror_mode": {
    "name": "ipython",
    "version": 3
   },
   "file_extension": ".py",
   "mimetype": "text/x-python",
   "name": "python",
   "nbconvert_exporter": "python",
   "pygments_lexer": "ipython3",
   "version": "3.9.7"
  }
 },
 "nbformat": 4,
 "nbformat_minor": 2
}
