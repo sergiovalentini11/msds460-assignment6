{
 "cells": [
  {
   "cell_type": "markdown",
   "metadata": {},
   "source": [
    "## Import data from the web - county information for redistricting problem"
   ]
  },
  {
   "cell_type": "code",
   "execution_count": 92,
   "metadata": {},
   "outputs": [
    {
     "name": "stdout",
     "output_type": "stream",
     "text": [
      "Requirement already satisfied: beautifulsoup4 in c:\\users\\hholanda\\appdata\\roaming\\python\\python39\\site-packages (4.12.3)\n",
      "Requirement already satisfied: soupsieve>1.2 in c:\\users\\hholanda\\appdata\\roaming\\python\\python39\\site-packages (from beautifulsoup4) (2.5)\n",
      "Note: you may need to restart the kernel to use updated packages.\n"
     ]
    }
   ],
   "source": [
    "pip install beautifulsoup4 --user"
   ]
  },
  {
   "cell_type": "code",
   "execution_count": 93,
   "metadata": {},
   "outputs": [
    {
     "name": "stderr",
     "output_type": "stream",
     "text": [
      "C:\\Users\\HHolanda\\AppData\\Roaming\\Python\\Python39\\site-packages\\urllib3\\connectionpool.py:1103: InsecureRequestWarning: Unverified HTTPS request is being made to host 'api.census.gov'. Adding certificate verification is strongly advised. See: https://urllib3.readthedocs.io/en/latest/advanced-usage.html#tls-warnings\n",
      "  warnings.warn(\n"
     ]
    }
   ],
   "source": [
    "# start by importing the pandas library\n",
    "import pandas as pd\n",
    "\n",
    "# read html page using beautifulsoup\n",
    "url = 'https://api.census.gov/data/2020/dec/pl?get=P3_001N,P3_003N&for=county:*&in=state:53'\n",
    "\n",
    "# read the html page using beautifulsoup\n",
    "import requests\n",
    "from bs4 import BeautifulSoup as bs\n",
    "\n",
    "\n",
    "# get the html page\n",
    "# ignore the ssl certificate error\n",
    "html_page = requests.get(url, verify=False)"
   ]
  },
  {
   "cell_type": "code",
   "execution_count": 94,
   "metadata": {},
   "outputs": [
    {
     "name": "stdout",
     "output_type": "stream",
     "text": [
      "    P3_001N  P3_003N state county\n",
      "0     13630     6621    53    001\n",
      "1     17729    16099    53    003\n",
      "2    152644   113123    53    005\n",
      "3     61405    45417    53    007\n",
      "4     64588    53896    53    009\n",
      "5    385835   300790    53    011\n",
      "6      3277     2896    53    013\n",
      "7     85596    72143    53    015\n",
      "8     32199    22276    53    017\n",
      "9      5831     4352    53    019\n",
      "10    66302    33500    53    021\n",
      "11     1799     1661    53    023\n",
      "12    70900    43781    53    025\n",
      "13    60530    49109    53    027\n",
      "14    71175    57361    53    029\n",
      "15  1813470  1070548    53    033\n",
      "16   219552   169927    53    035\n",
      "17    36115    30252    53    037\n",
      "18    64000    54326    53    041\n",
      "19     8582     7782    53    043\n",
      "20    32978    22925    53    047\n",
      "21    19358    16338    53    049\n",
      "22   709366   481554    53    053\n",
      "23    15258    13439    53    055\n",
      "24     9798     8531    53    059\n",
      "25   639797   441622    53    061\n",
      "26    36608    31669    53    065\n",
      "27   231089   175784    53    067\n",
      "28    49597    37430    53    071\n",
      "29   182483   145835    53    073\n",
      "30   184371    97808    53    077\n",
      "31    28951    25524    53    031\n",
      "32    18296    15080    53    039\n",
      "33    53265    43108    53    045\n",
      "34    10878     9729    53    051\n",
      "35   101710    79544    53    057\n",
      "36   421551   354720    53    063\n",
      "37     3655     3297    53    069\n",
      "38    40521    31026    53    075\n"
     ]
    }
   ],
   "source": [
    "# parse the html page\n",
    "soup = bs(html_page.content, 'html.parser')\n",
    "\n",
    "# based on soup.text object create a list of lists\n",
    "# split each row by \\n\n",
    "# split each column by ,\n",
    "\n",
    "# create a list of lists\n",
    "data = []\n",
    "for row in soup.text.split('\\n'):\n",
    "    data.append(row.split(','))\n",
    "\n",
    "#remove [, ] from all the elements in the list\n",
    "data = [[element.replace('[', '').replace(']', '') for element in row] for row in data]\n",
    "\n",
    "# remove \" and empty strings from all the elements in the list\n",
    "data = [[element.replace('\"', '') for element in row if element != ''] for row in data]\n",
    "\n",
    "# create a dataframe\n",
    "df = pd.DataFrame(data[1:], columns=data[0])\n",
    "\n",
    "# print the dataframe\n",
    "print(df)"
   ]
  },
  {
   "cell_type": "code",
   "execution_count": 95,
   "metadata": {},
   "outputs": [
    {
     "name": "stdout",
     "output_type": "stream",
     "text": [
      "<class 'pandas.core.frame.DataFrame'>\n",
      "RangeIndex: 39 entries, 0 to 38\n",
      "Data columns (total 4 columns):\n",
      " #   Column                        Non-Null Count  Dtype \n",
      "---  ------                        --------------  ----- \n",
      " 0   Total_Population              39 non-null     int64 \n",
      " 1   Total_Population_White_Alone  39 non-null     int64 \n",
      " 2   state                         39 non-null     object\n",
      " 3   county                        39 non-null     object\n",
      "dtypes: int64(2), object(2)\n",
      "memory usage: 1.3+ KB\n",
      "None\n",
      "       Total_Population  Total_Population_White_Alone\n",
      "count      3.900000e+01                  3.900000e+01\n",
      "mean       1.544792e+05                  1.074570e+05\n",
      "std        3.183633e+05                  1.973257e+05\n",
      "min        1.799000e+03                  1.661000e+03\n",
      "25%        1.801250e+04                  1.558950e+04\n",
      "50%        5.326500e+04                  3.743000e+04\n",
      "75%        1.271770e+05                  8.867600e+04\n",
      "max        1.813470e+06                  1.070548e+06\n"
     ]
    }
   ],
   "source": [
    "# convert P3_001N and P3_003N to numeric\n",
    "df['P3_001N'] = pd.to_numeric(df['P3_001N'])\n",
    "df['P3_003N'] = pd.to_numeric(df['P3_003N'])\n",
    "\n",
    "# rename P3_001N and P3_003N to Total_Population and Total_Population_White_Alone\n",
    "df = df.rename(columns={'P3_001N': 'Total_Population', 'P3_003N': 'Total_Population_White_Alone'})"
   ]
  },
  {
   "cell_type": "code",
   "execution_count": 99,
   "metadata": {},
   "outputs": [
    {
     "name": "stdout",
     "output_type": "stream",
     "text": [
      "<class 'pandas.core.frame.DataFrame'>\n",
      "RangeIndex: 39 entries, 0 to 38\n",
      "Data columns (total 4 columns):\n",
      " #   Column                        Non-Null Count  Dtype \n",
      "---  ------                        --------------  ----- \n",
      " 0   Total_Population              39 non-null     int64 \n",
      " 1   Total_Population_White_Alone  39 non-null     int64 \n",
      " 2   state                         39 non-null     object\n",
      " 3   county                        39 non-null     object\n",
      "dtypes: int64(2), object(2)\n",
      "memory usage: 1.3+ KB\n",
      "None\n",
      "        Total_Population  Total_Population_White_Alone state county\n",
      "count       3.900000e+01                  3.900000e+01    39     39\n",
      "unique               NaN                           NaN     1     39\n",
      "top                  NaN                           NaN    53    001\n",
      "freq                 NaN                           NaN    39      1\n",
      "mean        1.544792e+05                  1.074570e+05   NaN    NaN\n",
      "std         3.183633e+05                  1.973257e+05   NaN    NaN\n",
      "min         1.799000e+03                  1.661000e+03   NaN    NaN\n",
      "25%         1.801250e+04                  1.558950e+04   NaN    NaN\n",
      "50%         5.326500e+04                  3.743000e+04   NaN    NaN\n",
      "75%         1.271770e+05                  8.867600e+04   NaN    NaN\n",
      "max         1.813470e+06                  1.070548e+06   NaN    NaN\n"
     ]
    }
   ],
   "source": [
    "# show the dataframe info\n",
    "print(df.info())\n",
    "\n",
    "# show the dataframe describe and all the statistics\n",
    "print(df.describe(include='all'))"
   ]
  },
  {
   "cell_type": "code",
   "execution_count": 101,
   "metadata": {},
   "outputs": [
    {
     "name": "stdout",
     "output_type": "stream",
     "text": [
      "   Total_Population  Total_Population_White_Alone state_county\n",
      "0             13630                          6621        53001\n",
      "1             17729                         16099        53003\n",
      "2            152644                        113123        53005\n",
      "3             61405                         45417        53007\n",
      "4             64588                         53896        53009\n"
     ]
    }
   ],
   "source": [
    "# combine state and county to create a new column called state_county\n",
    "\n",
    "df['state_county'] = df['state'] + df['county']\n",
    "\n",
    "# drop the state and county columns\n",
    "df = df.drop(columns=['state', 'county'])\n",
    "\n",
    "# show the dataframe info\n",
    "print(df.head())"
   ]
  },
  {
   "cell_type": "code",
   "execution_count": 102,
   "metadata": {},
   "outputs": [],
   "source": [
    "# save the dataframe to a csv file\n",
    "# inside '\"001. Data Bases\" folder\n",
    "df.to_csv('001. Data Bases/washington_census_data.csv', index=False)"
   ]
  },
  {
   "cell_type": "markdown",
   "metadata": {},
   "source": [
    "https://en.wikipedia.org/wiki/List_of_counties_in_Washington"
   ]
  }
 ],
 "metadata": {
  "kernelspec": {
   "display_name": "Python 3",
   "language": "python",
   "name": "python3"
  },
  "language_info": {
   "codemirror_mode": {
    "name": "ipython",
    "version": 3
   },
   "file_extension": ".py",
   "mimetype": "text/x-python",
   "name": "python",
   "nbconvert_exporter": "python",
   "pygments_lexer": "ipython3",
   "version": "3.9.7"
  }
 },
 "nbformat": 4,
 "nbformat_minor": 2
}
